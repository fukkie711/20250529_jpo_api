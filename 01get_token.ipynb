{
 "cells": [
  {
   "cell_type": "code",
   "execution_count": null,
   "id": "6ee1c56d",
   "metadata": {},
   "outputs": [],
   "source": [
    "import requests\n",
    "from urllib.parse import quote_plus\n",
    "# import urllib.parse\n",
    "import json\n",
    "\n",
    "# example.jsonファイルからLINE_NOTIFY_TOKENを読み込む\n",
    "with open('config.json', 'r') as json_file:\n",
    "    data = json.load(json_file)\n",
    "    api_id = data.get('ID')\n",
    "    api_pass = data.get('PASS')\n",
    "\n",
    "# 特許庁から提供された情報\n",
    "username = api_id\n",
    "password = api_pass\n",
    "token_url = \"https://ip-data.jpo.go.jp//auth/token\"\n",
    "\n",
    "# URLエンコード\n",
    "encoded_username = quote_plus(username)\n",
    "encoded_password = quote_plus(password)\n",
    "\n",
    "# ヘッダーとボディの設定\n",
    "headers = {\n",
    "    \"Content-Type\": \"application/x-www-form-urlencoded\",\n",
    "    \"Host\": \"ip-data.jpo.go.jp\"\n",
    "}\n",
    "\n",
    "data = {\n",
    "    \"grant_type\": \"password\",\n",
    "    \"username\": encoded_username,\n",
    "    \"password\": encoded_password\n",
    "}\n",
    "\n",
    "# POSTリクエスト送信\n",
    "response = requests.post(token_url, headers=headers, data=data)\n",
    "\n",
    "# 結果表示\n",
    "if response.status_code == 200:\n",
    "    print(\"アクセストークン取得成功:\")\n",
    "    print(response.json())\n",
    "else:\n",
    "    print(f\"エラーが発生しました: {response.status_code}\")\n",
    "    print(response.text)"
   ]
  }
 ],
 "metadata": {
  "kernelspec": {
   "display_name": "Python 3",
   "language": "python",
   "name": "python3"
  },
  "language_info": {
   "codemirror_mode": {
    "name": "ipython",
    "version": 3
   },
   "file_extension": ".py",
   "mimetype": "text/x-python",
   "name": "python",
   "nbconvert_exporter": "python",
   "pygments_lexer": "ipython3",
   "version": "3.12.10"
  }
 },
 "nbformat": 4,
 "nbformat_minor": 5
}

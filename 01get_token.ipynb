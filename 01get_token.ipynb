{
 "cells": [
  {
   "cell_type": "code",
   "execution_count": null,
   "id": "6ee1c56d",
   "metadata": {},
   "outputs": [
    {
     "name": "stdout",
     "output_type": "stream",
     "text": [
      "アクセストークン取得成功: token.json\n"
     ]
    }
   ],
   "source": [
    "# API情報提供サイト https://ip-data.jpo.go.jp/pages/top.html\n",
    "import requests\n",
    "from urllib.parse import quote_plus\n",
    "# import urllib.parse\n",
    "import json\n",
    "\n",
    "# example.jsonファイルからLINE_NOTIFY_TOKENを読み込む\n",
    "with open('config.json', 'r') as json_file:\n",
    "    data = json.load(json_file)\n",
    "    api_id = data.get('ID')\n",
    "    api_pass = data.get('PASS')\n",
    "\n",
    "# 特許庁から提供された情報\n",
    "username = api_id\n",
    "password = api_pass\n",
    "token_url = \"https://ip-data.jpo.go.jp//auth/token\"\n",
    "\n",
    "# URLエンコード\n",
    "encoded_username = quote_plus(username)\n",
    "encoded_password = quote_plus(password)\n",
    "\n",
    "# ヘッダーとボディの設定\n",
    "headers = {\n",
    "    \"Content-Type\": \"application/x-www-form-urlencoded\",\n",
    "    \"Host\": \"ip-data.jpo.go.jp\"\n",
    "}\n",
    "\n",
    "data = {\n",
    "    \"grant_type\": \"password\",\n",
    "    \"username\": encoded_username,\n",
    "    \"password\": encoded_password\n",
    "}\n",
    "\n",
    "# POSTリクエスト送信\n",
    "response = requests.post(url=token_url, headers=headers, data=data)\n",
    "\n",
    "# 結果表示\n",
    "if response.status_code == 200:\n",
    "    print(\"アクセストークン取得成功: token.json\")\n",
    "    with open('token.json', 'w') as f:\n",
    "        json.dump(json.loads(response.text), f)\n",
    "else:\n",
    "    print(f\"エラーが発生しました: {response.status_code}\")\n",
    "    print(response.text)\n",
    "    "
   ]
  },
  {
   "cell_type": "code",
   "execution_count": null,
   "id": "a15d4fdb",
   "metadata": {},
   "outputs": [
    {
     "name": "stdout",
     "output_type": "stream",
     "text": [
      "アクセストークン取得成功: refresh_token.json\n"
     ]
    }
   ],
   "source": [
    "# アクセストークンの再取得\n",
    "# アクセストークンの有効期限は、情報セキュリティ確保のため取得後１時間です。有効期限を過ぎた場合、アクセ\n",
    "# ストーク取得から８時間以内であれば、アクセストークン取得時に同時取得したリフレッシュトークンにより、ID・パス\n",
    "# ワードを再送することなく、新たなアクセストークンを取得することができます。\n",
    "# アクセストークン取得⽤ URL に再度アクセスして、http リクエストの Header に下表の Key と Value を設定し\n",
    "# てください。 \n",
    "import requests\n",
    "from urllib.parse import quote_plus\n",
    "# import urllib.parse\n",
    "import json\n",
    "\n",
    "token_url = \"https://ip-data.jpo.go.jp//auth/token\"\n",
    "\n",
    "# access_token.jsonファイルからaccess_tokenを読み込む\n",
    "with open('token.json', 'r') as json_file:\n",
    "    data = json.load(json_file)\n",
    "    refresh_token = data.get('refresh_token')\n",
    "\n",
    "\n",
    "# ヘッダーとボディの設定\n",
    "headers = {\n",
    "    \"Host\": \"ip-data.jpo.go.jp\",\n",
    "    \"Content-Type\": \"application/x-www-form-urlencoded\",\n",
    "}\n",
    "\n",
    "data = {\n",
    "    \"grant_type\": \"refresh_token\",\n",
    "    \"refresh_token\": refresh_token\n",
    "}\n",
    "\n",
    "# POSTリクエスト送信\n",
    "response = requests.post(token_url, headers=headers, data=data)\n",
    "\n",
    "# 結果表示\n",
    "if response.status_code == 200:\n",
    "    print(\"アクセストークン取得成功: refresh_token.json\")\n",
    "    with open('refresh_token.json', 'w') as f:\n",
    "        json.dump(json.loads(response.text), f)\n",
    "else:\n",
    "    print(f\"エラーが発生しました: {response.status_code}\")\n",
    "    print(response.text)"
   ]
  }
 ],
 "metadata": {
  "kernelspec": {
   "display_name": ".venv",
   "language": "python",
   "name": "python3"
  },
  "language_info": {
   "codemirror_mode": {
    "name": "ipython",
    "version": 3
   },
   "file_extension": ".py",
   "mimetype": "text/x-python",
   "name": "python",
   "nbconvert_exporter": "python",
   "pygments_lexer": "ipython3",
   "version": "3.12.3"
  }
 },
 "nbformat": 4,
 "nbformat_minor": 5
}

{
 "cells": [
  {
   "cell_type": "code",
   "execution_count": 13,
   "id": "88ae0b22",
   "metadata": {},
   "outputs": [
    {
     "name": "stdout",
     "output_type": "stream",
     "text": [
      "アクセス成功:2020008423\n"
     ]
    }
   ],
   "source": [
    "# API情報提供サイト https://ip-data.jpo.go.jp/pages/top.html\n",
    "# 国内特許情報取得APIのサーバーURL ： https://ip-data.jpo.go.jp/api\n",
    "# OPD-APIのサーバーURL ： https://ip-data.jpo.go.jp/opdapi\n",
    "\n",
    "import requests\n",
    "from urllib.parse import quote_plus\n",
    "# import urllib.parse\n",
    "import json\n",
    "\n",
    "# access_token.jsonファイルからaccess_tokenを読み込む\n",
    "with open('token.json', 'r') as json_file:\n",
    "    data = json.load(json_file)\n",
    "    access_token = data.get('access_token')\n",
    "\n",
    "# Header\n",
    "# Host = 'https://ip-data.jpo.go.jp'\n",
    "Authorization = 'Bearer ' + access_token\n",
    "\n",
    "# ヘッダーとボディの設定\n",
    "headers = {\n",
    "    \"Host\": \"ip-data.jpo.go.jp\",\n",
    "    'Authorization': Authorization\n",
    "}\n",
    "\n",
    "# 国内特許情報取得API（特許出願に関する情報）\n",
    "base_url = 'https://ip-data.jpo.go.jp/api/patent/v1/'\n",
    "api_type = 'app_progress'\n",
    "application_number = '2020008423'\n",
    "url = base_url + api_type + '/' + application_number\n",
    "\n",
    "# APIへのアクセス\n",
    "# response = requests.get(url+Pub_type+'/'+App_No, headers=headers)\n",
    "response = requests.get(url, headers=headers)\n",
    "\n",
    "# 結果表示\n",
    "if response.status_code == 200:\n",
    "    print(f\"アクセス成功:{application_number}\")\n",
    "    with open(f'result_{application_number}.json', 'w', encoding='utf-8') as f:\n",
    "        json.dump(json.loads(response.text), f)\n",
    "        # res = json.loads(response.text)\n",
    "    # print(res)\n",
    "else:\n",
    "    print(f\"エラーが発生しました: {response.status_code}\")\n",
    "    print(response.text)\n"
   ]
  }
 ],
 "metadata": {
  "kernelspec": {
   "display_name": ".venv",
   "language": "python",
   "name": "python3"
  },
  "language_info": {
   "codemirror_mode": {
    "name": "ipython",
    "version": 3
   },
   "file_extension": ".py",
   "mimetype": "text/x-python",
   "name": "python",
   "nbconvert_exporter": "python",
   "pygments_lexer": "ipython3",
   "version": "3.12.3"
  }
 },
 "nbformat": 4,
 "nbformat_minor": 5
}
